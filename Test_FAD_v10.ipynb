{
 "cells": [
  {
   "cell_type": "code",
   "execution_count": 41,
   "metadata": {},
   "outputs": [],
   "source": [
    "# -*- coding: utf-8 -*-\n",
    "\"\"\"\n",
    "Created on Tue Jul 12 20:42:14 2022\n",
    "\n",
    "@author: Fred Coerver\n",
    "\"\"\"\n",
    "\n",
    "import pandas as pd\n",
    "import numpy as np\n",
    "from scipy import stats\n",
    "import sys\n",
    "import datetime\n",
    "import time\n",
    "import matplotlib as plt\n",
    "if not sys.warnoptions:\n",
    "    import warnings\n",
    "    warnings.simplefilter(\"ignore\")\n",
    "    \n",
    "pd.options.display.float_format = '{:,.6f}'.format\n",
    "\n",
    "#Userdefined module\n",
    "from fad_v02 import Get_SandD\n",
    "\n",
    "######################### READ DATA #################################################\n",
    "td = pd.read_excel(\"./Testdata_inout2.xlsx\",sheet_name=\"inputdata\",usecols=\"B:C\")\n",
    "writer = pd.ExcelWriter(\"./Testdata.xlsx\")\n",
    "\n",
    "\n",
    "######################### INITIALIZE DATA   #########################################\n",
    "kpi_input = td.columns.to_list()\n",
    "t=1\n",
    "P1inc= 15\n",
    "accuracy = 12\n",
    "window_sizeleft = 3\n",
    "window_sizeright= 3\n",
    "Time_scale=True\n",
    "ignore_startsamples = 4\n",
    "ignore_endsamples =4\n",
    "td_in = td[[kpi_input[0],kpi_input[t]]]\n",
    "td_in = td\n",
    "\n",
    "##########################  CALL MODULE   ###########################################\n",
    "dfSin_gl, spikelist_gl = Get_SandD(td_in,\n",
    "                                   acc=accuracy,\n",
    "                                   windowsizeleft=window_sizeleft,\n",
    "                                   windowsizeright=window_sizeright,\n",
    "                                   sp_name=kpi_input[t],\n",
    "                                   P1=P1inc,\n",
    "                                   ignorestartsamples = ignore_startsamples,\n",
    "                                   ignoreendsamples = ignore_endsamples,\n",
    "                                   Timescale=Time_scale\n",
    "                                   )\n",
    "\n",
    "##########################    write data to excel   #################################\n",
    "dfSin_gl.to_excel(writer,sheet_name=\"Sheet4\")  \n",
    "spikelist_gl.to_excel(writer,sheet_name=\"Sheet5\") \n",
    "writer.save()"
   ]
  },
  {
   "cell_type": "code",
   "execution_count": null,
   "metadata": {},
   "outputs": [],
   "source": []
  },
  {
   "cell_type": "code",
   "execution_count": null,
   "metadata": {},
   "outputs": [],
   "source": []
  }
 ],
 "metadata": {
  "kernelspec": {
   "display_name": "Python 3",
   "language": "python",
   "name": "python3"
  },
  "language_info": {
   "codemirror_mode": {
    "name": "ipython",
    "version": 3
   },
   "file_extension": ".py",
   "mimetype": "text/x-python",
   "name": "python",
   "nbconvert_exporter": "python",
   "pygments_lexer": "ipython3",
   "version": "3.8.5"
  }
 },
 "nbformat": 4,
 "nbformat_minor": 4
}
