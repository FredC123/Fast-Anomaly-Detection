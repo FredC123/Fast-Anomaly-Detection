{
 "cells": [
  {
   "cell_type": "code",
   "execution_count": 1,
   "metadata": {},
   "outputs": [],
   "source": [
    "%matplotlib inline\n",
    "import pandas as pd\n",
    "import numpy as np\n",
    "from scipy import stats\n",
    "import sys\n",
    "import datetime\n",
    "import time\n",
    "import matplotlib as plt\n",
    "if not sys.warnoptions:\n",
    "    import warnings\n",
    "    warnings.simplefilter(\"ignore\")\n",
    "    \n",
    "pd.options.display.float_format = '{:,.6f}'.format\n",
    "\n",
    "#Userdefined module\n",
    "from fad_v02 import Get_SandD\n"
   ]
  },
  {
   "cell_type": "code",
   "execution_count": 2,
   "metadata": {},
   "outputs": [],
   "source": [
    "### main ###\n",
    "\n",
    "#td = pd.read_excel(\"./data/in/matrix/Testdata_inout2.xlsx\",sheet_name=\"inputdata\",usecols=\"B:C\")\n",
    "td0 = pd.read_excel(r\"./data/Out/ML_245G_NS_total.xlsx\",sheet_name=\"Sheet1\")\n"
   ]
  },
  {
   "cell_type": "code",
   "execution_count": 3,
   "metadata": {},
   "outputs": [],
   "source": [
    "writer = pd.ExcelWriter(\"./data/Out/matrix/ML_245G_NS_total_out.xlsx\")\n",
    "\n",
    "td = td0.drop([\"Day\",\"Weekday\",\"Hour\"],axis=1)\n",
    "td2 = td[-48:]\n",
    "td2.reset_index(inplace=True,drop=True)\n",
    "\n",
    "\n",
    "######################### INITIALIZE DATA   #########################################\n",
    "kpi_input = td.columns.to_list()\n",
    "P1inc=10\n",
    "t=1\n",
    "accuracy = 5\n",
    "window_sizeleft = 5\n",
    "window_sizeright= 3\n",
    "Time_scale=True\n",
    "ignore_startsamples = window_sizeleft + 1\n",
    "ignore_endsamples = window_sizeright\n",
    "\n",
    "##########################  lOOP/CALL MODULE   ###########################################\n",
    "while t< len(kpi_input):\n",
    "    td_in = td2[[kpi_input[0],kpi_input[t]]]\n",
    "    dfSin_gl, spikelist_gl = Get_SandD(td_in,\n",
    "                                       acc=accuracy,\n",
    "                                       windowsizeleft=window_sizeleft,\n",
    "                                       windowsizeright=window_sizeright,\n",
    "                                       sp_name=kpi_input[t],\n",
    "                                       P1=P1inc,\n",
    "                                       ignorestartsamples = ignore_startsamples,\n",
    "                                       ignoreendsamples = ignore_endsamples,\n",
    "                                       Timescale=Time_scale\n",
    "                                       )\n",
    "    if t == 1:\n",
    "        result = dfSin_gl\n",
    "    else:\n",
    "        result = pd.concat([result,dfSin_gl])\n",
    "    if t == 1:\n",
    "        resultspike = spikelist_gl\n",
    "    else:\n",
    "        resultspike = pd.concat([resultspike,spikelist_gl])\n",
    "\n",
    "    \n",
    "    t += 1\n",
    "\n",
    "# write data to excel\n",
    "result.to_excel(writer,sheet_name=\"results\")  \n",
    "resultspike.to_excel(writer,sheet_name=\"resultsspike\") \n",
    "writer.save()"
   ]
  },
  {
   "cell_type": "code",
   "execution_count": 4,
   "metadata": {},
   "outputs": [],
   "source": [
    "#############################    SPIKE ANALYSIS   #####################################"
   ]
  },
  {
   "cell_type": "code",
   "execution_count": 5,
   "metadata": {},
   "outputs": [],
   "source": [
    "### main ###\n",
    "\n",
    "#td = pd.read_excel(\"./data/in/matrix/Testdata_inout2.xlsx\",sheet_name=\"inputdata\",usecols=\"B:C\")\n",
    "td0 = pd.read_excel(r\"./data/Out/spike_ext.xlsx\",sheet_name=\"Sheet1\")\n"
   ]
  },
  {
   "cell_type": "code",
   "execution_count": 6,
   "metadata": {},
   "outputs": [],
   "source": [
    "writer = pd.ExcelWriter(\"./data/Out/matrix/spike_ext_out.xlsx\")\n",
    "\n",
    "td = td0.drop([\"Hour\"],axis=1)\n",
    "td2 = td[-48*12:]\n",
    "td2.reset_index(inplace=True,drop=True)"
   ]
  },
  {
   "cell_type": "code",
   "execution_count": 7,
   "metadata": {},
   "outputs": [],
   "source": [
    "######################### INITIALIZE DATA   #########################################\n",
    "kpi_input = td.columns.to_list()\n",
    "P1inc=10\n",
    "t=1\n",
    "accuracy = 10\n",
    "window_sizeleft = 4\n",
    "window_sizeright= 4\n",
    "Time_scale=True\n",
    "ignore_startsamples = window_sizeleft\n",
    "ignore_endsamples = window_sizeright\n",
    "\n",
    "##########################  lOOP/CALL MODULE   ###########################################\n",
    "while t<len(kpi_input):\n",
    "    td_in = td2[[kpi_input[0],kpi_input[t]]]\n",
    "    dfSin_gl, spikelist_gl = Get_SandD(td_in,\n",
    "                                       acc=accuracy,\n",
    "                                       windowsizeleft=window_sizeleft,\n",
    "                                       windowsizeright=window_sizeright,\n",
    "                                       sp_name=kpi_input[t],\n",
    "                                       P1=P1inc,\n",
    "                                       ignorestartsamples = ignore_startsamples,\n",
    "                                       ignoreendsamples = ignore_endsamples,\n",
    "                                       Timescale=Time_scale\n",
    "                                       )\n",
    "    if t == 1:\n",
    "        result = dfSin_gl\n",
    "    else:\n",
    "        result = pd.concat([result,dfSin_gl])\n",
    "    if t == 1:\n",
    "        resultspike = spikelist_gl\n",
    "    else:\n",
    "        resultspike = pd.concat([resultspike,spikelist_gl])\n",
    "\n",
    "    \n",
    "    t += 1\n",
    "\n",
    "# write data to excel\n",
    "result.to_excel(writer,sheet_name=\"results\")  \n",
    "resultspike.to_excel(writer,sheet_name=\"resultsspike\") \n",
    "writer.save()"
   ]
  },
  {
   "cell_type": "code",
   "execution_count": 50,
   "metadata": {},
   "outputs": [],
   "source": [
    "#pd.options.display.float_format = '{:,.0f}'.format\n",
    "#resultspike_pv = pd.pivot_table(resultspike,values=\"spike\",index=\"KPI_name\"\n",
    "#                                #,columns=\"DateTime\"\n",
    "#                                ,aggfunc=[\"sum\"] #\"count\"]\n",
    "#                                ,fill_value=\"0\"\n",
    "#                                ,margins = True, margins_name='Total'\n",
    "#                               )\n",
    "\n",
    "\n"
   ]
  },
  {
   "cell_type": "code",
   "execution_count": null,
   "metadata": {},
   "outputs": [],
   "source": []
  }
 ],
 "metadata": {
  "kernelspec": {
   "display_name": "Python 3",
   "language": "python",
   "name": "python3"
  },
  "language_info": {
   "codemirror_mode": {
    "name": "ipython",
    "version": 3
   },
   "file_extension": ".py",
   "mimetype": "text/x-python",
   "name": "python",
   "nbconvert_exporter": "python",
   "pygments_lexer": "ipython3",
   "version": "3.8.5"
  }
 },
 "nbformat": 4,
 "nbformat_minor": 4
}
